{
 "cells": [
  {
   "cell_type": "code",
   "execution_count": 4,
   "metadata": {
    "ExecuteTime": {
     "end_time": "2018-04-08T17:25:54.149984Z",
     "start_time": "2018-04-08T17:25:54.131386Z"
    }
   },
   "outputs": [],
   "source": [
    "import pandas as pd\n",
    "import numpy as np\n",
    "from pandas import Series,DataFrame\n",
    "import matplotlib.pyplot as plt\n",
    "import seaborn as sns\n",
    "import time\n",
    "from sklearn.model_selection import train_test_split\n",
    "import warnings\n",
    "warnings.filterwarnings(\"ignore\")"
   ]
  },
  {
   "cell_type": "code",
   "execution_count": 18,
   "metadata": {
    "ExecuteTime": {
     "end_time": "2018-04-08T18:33:29.879274Z",
     "start_time": "2018-04-08T18:33:29.573685Z"
    }
   },
   "outputs": [],
   "source": [
    "path_train = \"./demo.csv\"  # 训练文件\n",
    "path_test  = \"./demo.csv\"  # 测试文件\n",
    "\n",
    "df = pd.read_csv(path_train,dtype={'TERMINALNO':np.uint16,'TIME':np.uint32,'TRIP_ID':np.uint8,'LONGITUDE':np.float32,'LATITUDE':np.float32,'DIRECTION':np.int16,'HEIGHT':np.float32,'SPEED':np.float32,'CALLSTATE':np.uint8,'Y':np.float16})\n",
    "df['ftime'] = df['TIME'].apply(lambda x: time.strftime('%Y-%m-%d %H:%M:%S',time.localtime(x)))\n",
    "df['ftime'] = pd.to_datetime(df['ftime'])\n",
    "df['hour'] = df['ftime'].dt.hour.astype(np.uint8)\n",
    "df['weekday'] = df['ftime'].dt.weekday.astype(np.uint8)\n",
    "df['day'] = df['ftime'].dt.day.astype(np.uint8)\n",
    "df['month'] = df['ftime'].dt.month.astype(np.uint8)\n",
    "\n",
    "X = df.iloc[:,:-1]\n",
    "y = df['Y']\n",
    "X_train, X_test, y_train, y_test = train_test_split(X, y, random_state=33, test_size=0.20)\n",
    "\n",
    "df = pd.read_csv(path_test,dtype={'TERMINALNO':np.uint16,'TIME':np.uint32,'TRIP_ID':np.uint8,'LONGITUDE':np.float32,'LATITUDE':np.float32,'DIRECTION':np.int16,'HEIGHT':np.float32,'SPEED':np.float32,'CALLSTATE':np.uint8,'Y':np.float16})\n",
    "X_valid = df"
   ]
  },
  {
   "cell_type": "code",
   "execution_count": null,
   "metadata": {
    "collapsed": true
   },
   "outputs": [],
   "source": [
    "def data_transformation(df):\n",
    "    df_owner = df.groupby(['TERMINALNO'])['Y'].agg({'Y':np.mean,'counts':'count'}).reset_index()\n",
    "    return df_owner\n",
    "\n",
    "def sfc1(df): # 构造速度特征:均值及标准差,返回车主ID,标准差,均值\n",
    "    df_speed = df.groupby(['TERMINALNO'])['SPEED'].agg({'sstd':np.std,'smean':np.mean}).reset_index()\n",
    "    return df_speed\n",
    "\n",
    "def hfc1(df): # 构造海拔特征:均值及标准差,返回车主ID,标准差,均值\n",
    "    df_hight = df.groupby(['TERMINALNO'])['HEIGHT'].agg({'hstd':np.std,'hmean':np.mean}).reset_index()\n",
    "    return df_hight\n",
    "\n",
    "def tfc1(df): # 构造时间特征:"
   ]
  }
 ],
 "metadata": {
  "kernelspec": {
   "display_name": "Python 3",
   "language": "python",
   "name": "python3"
  },
  "language_info": {
   "codemirror_mode": {
    "name": "ipython",
    "version": 3
   },
   "file_extension": ".py",
   "mimetype": "text/x-python",
   "name": "python",
   "nbconvert_exporter": "python",
   "pygments_lexer": "ipython3",
   "version": "3.6.0"
  },
  "toc": {
   "colors": {
    "hover_highlight": "#DAA520",
    "navigate_num": "#000000",
    "navigate_text": "#333333",
    "running_highlight": "#FF0000",
    "selected_highlight": "#FFD700",
    "sidebar_border": "#EEEEEE",
    "wrapper_background": "#FFFFFF"
   },
   "moveMenuLeft": true,
   "nav_menu": {
    "height": "12px",
    "width": "252px"
   },
   "navigate_menu": true,
   "number_sections": true,
   "sideBar": true,
   "threshold": 4,
   "toc_cell": false,
   "toc_section_display": "block",
   "toc_window_display": false,
   "widenNotebook": false
  }
 },
 "nbformat": 4,
 "nbformat_minor": 2
}
